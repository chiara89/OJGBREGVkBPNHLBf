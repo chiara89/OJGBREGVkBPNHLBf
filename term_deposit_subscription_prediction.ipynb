{
 "cells": [
  {
   "cell_type": "code",
   "execution_count": 92,
   "id": "cd8e3c75",
   "metadata": {},
   "outputs": [],
   "source": [
    "%matplotlib inline\n",
    "from matplotlib import pyplot as plt\n",
    "import pandas as pd\n",
    "from sklearn.linear_model import LogisticRegression\n",
    "from sklearn.svm import SVC\n",
    "from sklearn.tree import DecisionTreeClassifier\n",
    "from sklearn.ensemble import RandomForestClassifier\n",
    "from sklearn.metrics import classification_report\n",
    "from sklearn.ensemble import ExtraTreesClassifier\n",
    "from sklearn.feature_selection import SelectFromModel\n",
    "from sklearn.model_selection import train_test_split\n",
    "from xgboost import XGBClassifier,plot_importance\n",
    "from sklearn.metrics import confusion_matrix\n",
    "import numpy as np\n",
    "import seaborn as sns"
   ]
  },
  {
   "cell_type": "markdown",
   "id": "25736dde",
   "metadata": {},
   "source": [
    "### Data Exploration"
   ]
  },
  {
   "cell_type": "code",
   "execution_count": 93,
   "id": "ae43eaaf",
   "metadata": {},
   "outputs": [
    {
     "name": "stdout",
     "output_type": "stream",
     "text": [
      "       age           job   marital  education default  balance housing loan  \\\n",
      "0       58    management   married   tertiary      no     2143     yes   no   \n",
      "1       44    technician    single  secondary      no       29     yes   no   \n",
      "2       33  entrepreneur   married  secondary      no        2     yes  yes   \n",
      "3       47   blue-collar   married    unknown      no     1506     yes   no   \n",
      "4       33       unknown    single    unknown      no        1      no   no   \n",
      "...    ...           ...       ...        ...     ...      ...     ...  ...   \n",
      "39995   53    technician   married   tertiary      no      395      no   no   \n",
      "39996   30    management    single   tertiary      no     3340      no   no   \n",
      "39997   54         admin  divorced  secondary      no      200      no   no   \n",
      "39998   34    management   married   tertiary      no     1047      no   no   \n",
      "39999   38    technician   married  secondary      no     1442     yes   no   \n",
      "\n",
      "        contact  day month  duration  campaign    y  \n",
      "0       unknown    5   may       261         1   no  \n",
      "1       unknown    5   may       151         1   no  \n",
      "2       unknown    5   may        76         1   no  \n",
      "3       unknown    5   may        92         1   no  \n",
      "4       unknown    5   may       198         1   no  \n",
      "...         ...  ...   ...       ...       ...  ...  \n",
      "39995  cellular    3   jun       107         1   no  \n",
      "39996  cellular    3   jun       238         3  yes  \n",
      "39997  cellular    3   jun       170         1  yes  \n",
      "39998  cellular    3   jun       342         1   no  \n",
      "39999  cellular    3   jun       113         1   no  \n",
      "\n",
      "[40000 rows x 14 columns]\n"
     ]
    }
   ],
   "source": [
    "df = pd.read_csv(\"term-deposit-marketing-2020.csv\")\n",
    "print(df)"
   ]
  },
  {
   "cell_type": "code",
   "execution_count": 94,
   "id": "701823d0",
   "metadata": {},
   "outputs": [
    {
     "data": {
      "text/html": [
       "<div>\n",
       "<style scoped>\n",
       "    .dataframe tbody tr th:only-of-type {\n",
       "        vertical-align: middle;\n",
       "    }\n",
       "\n",
       "    .dataframe tbody tr th {\n",
       "        vertical-align: top;\n",
       "    }\n",
       "\n",
       "    .dataframe thead th {\n",
       "        text-align: right;\n",
       "    }\n",
       "</style>\n",
       "<table border=\"1\" class=\"dataframe\">\n",
       "  <thead>\n",
       "    <tr style=\"text-align: right;\">\n",
       "      <th></th>\n",
       "      <th>age</th>\n",
       "      <th>job</th>\n",
       "      <th>marital</th>\n",
       "      <th>education</th>\n",
       "      <th>default</th>\n",
       "      <th>balance</th>\n",
       "      <th>housing</th>\n",
       "      <th>loan</th>\n",
       "      <th>contact</th>\n",
       "      <th>day</th>\n",
       "      <th>month</th>\n",
       "      <th>duration</th>\n",
       "      <th>campaign</th>\n",
       "      <th>y</th>\n",
       "    </tr>\n",
       "  </thead>\n",
       "  <tbody>\n",
       "    <tr>\n",
       "      <th>0</th>\n",
       "      <td>58</td>\n",
       "      <td>management</td>\n",
       "      <td>married</td>\n",
       "      <td>tertiary</td>\n",
       "      <td>no</td>\n",
       "      <td>2143</td>\n",
       "      <td>yes</td>\n",
       "      <td>no</td>\n",
       "      <td>unknown</td>\n",
       "      <td>5</td>\n",
       "      <td>may</td>\n",
       "      <td>261</td>\n",
       "      <td>1</td>\n",
       "      <td>no</td>\n",
       "    </tr>\n",
       "    <tr>\n",
       "      <th>1</th>\n",
       "      <td>44</td>\n",
       "      <td>technician</td>\n",
       "      <td>single</td>\n",
       "      <td>secondary</td>\n",
       "      <td>no</td>\n",
       "      <td>29</td>\n",
       "      <td>yes</td>\n",
       "      <td>no</td>\n",
       "      <td>unknown</td>\n",
       "      <td>5</td>\n",
       "      <td>may</td>\n",
       "      <td>151</td>\n",
       "      <td>1</td>\n",
       "      <td>no</td>\n",
       "    </tr>\n",
       "    <tr>\n",
       "      <th>2</th>\n",
       "      <td>33</td>\n",
       "      <td>entrepreneur</td>\n",
       "      <td>married</td>\n",
       "      <td>secondary</td>\n",
       "      <td>no</td>\n",
       "      <td>2</td>\n",
       "      <td>yes</td>\n",
       "      <td>yes</td>\n",
       "      <td>unknown</td>\n",
       "      <td>5</td>\n",
       "      <td>may</td>\n",
       "      <td>76</td>\n",
       "      <td>1</td>\n",
       "      <td>no</td>\n",
       "    </tr>\n",
       "    <tr>\n",
       "      <th>3</th>\n",
       "      <td>47</td>\n",
       "      <td>blue-collar</td>\n",
       "      <td>married</td>\n",
       "      <td>unknown</td>\n",
       "      <td>no</td>\n",
       "      <td>1506</td>\n",
       "      <td>yes</td>\n",
       "      <td>no</td>\n",
       "      <td>unknown</td>\n",
       "      <td>5</td>\n",
       "      <td>may</td>\n",
       "      <td>92</td>\n",
       "      <td>1</td>\n",
       "      <td>no</td>\n",
       "    </tr>\n",
       "    <tr>\n",
       "      <th>4</th>\n",
       "      <td>33</td>\n",
       "      <td>unknown</td>\n",
       "      <td>single</td>\n",
       "      <td>unknown</td>\n",
       "      <td>no</td>\n",
       "      <td>1</td>\n",
       "      <td>no</td>\n",
       "      <td>no</td>\n",
       "      <td>unknown</td>\n",
       "      <td>5</td>\n",
       "      <td>may</td>\n",
       "      <td>198</td>\n",
       "      <td>1</td>\n",
       "      <td>no</td>\n",
       "    </tr>\n",
       "  </tbody>\n",
       "</table>\n",
       "</div>"
      ],
      "text/plain": [
       "   age           job  marital  education default  balance housing loan  \\\n",
       "0   58    management  married   tertiary      no     2143     yes   no   \n",
       "1   44    technician   single  secondary      no       29     yes   no   \n",
       "2   33  entrepreneur  married  secondary      no        2     yes  yes   \n",
       "3   47   blue-collar  married    unknown      no     1506     yes   no   \n",
       "4   33       unknown   single    unknown      no        1      no   no   \n",
       "\n",
       "   contact  day month  duration  campaign   y  \n",
       "0  unknown    5   may       261         1  no  \n",
       "1  unknown    5   may       151         1  no  \n",
       "2  unknown    5   may        76         1  no  \n",
       "3  unknown    5   may        92         1  no  \n",
       "4  unknown    5   may       198         1  no  "
      ]
     },
     "execution_count": 94,
     "metadata": {},
     "output_type": "execute_result"
    }
   ],
   "source": [
    "df.head()"
   ]
  },
  {
   "cell_type": "code",
   "execution_count": 95,
   "id": "fdbd3492",
   "metadata": {},
   "outputs": [
    {
     "data": {
      "text/html": [
       "<div>\n",
       "<style scoped>\n",
       "    .dataframe tbody tr th:only-of-type {\n",
       "        vertical-align: middle;\n",
       "    }\n",
       "\n",
       "    .dataframe tbody tr th {\n",
       "        vertical-align: top;\n",
       "    }\n",
       "\n",
       "    .dataframe thead th {\n",
       "        text-align: right;\n",
       "    }\n",
       "</style>\n",
       "<table border=\"1\" class=\"dataframe\">\n",
       "  <thead>\n",
       "    <tr style=\"text-align: right;\">\n",
       "      <th></th>\n",
       "      <th>age</th>\n",
       "      <th>job</th>\n",
       "      <th>marital</th>\n",
       "      <th>education</th>\n",
       "      <th>default</th>\n",
       "      <th>balance</th>\n",
       "      <th>housing</th>\n",
       "      <th>loan</th>\n",
       "      <th>contact</th>\n",
       "      <th>day</th>\n",
       "      <th>month</th>\n",
       "      <th>duration</th>\n",
       "      <th>campaign</th>\n",
       "      <th>y</th>\n",
       "    </tr>\n",
       "  </thead>\n",
       "  <tbody>\n",
       "    <tr>\n",
       "      <th>39995</th>\n",
       "      <td>53</td>\n",
       "      <td>technician</td>\n",
       "      <td>married</td>\n",
       "      <td>tertiary</td>\n",
       "      <td>no</td>\n",
       "      <td>395</td>\n",
       "      <td>no</td>\n",
       "      <td>no</td>\n",
       "      <td>cellular</td>\n",
       "      <td>3</td>\n",
       "      <td>jun</td>\n",
       "      <td>107</td>\n",
       "      <td>1</td>\n",
       "      <td>no</td>\n",
       "    </tr>\n",
       "    <tr>\n",
       "      <th>39996</th>\n",
       "      <td>30</td>\n",
       "      <td>management</td>\n",
       "      <td>single</td>\n",
       "      <td>tertiary</td>\n",
       "      <td>no</td>\n",
       "      <td>3340</td>\n",
       "      <td>no</td>\n",
       "      <td>no</td>\n",
       "      <td>cellular</td>\n",
       "      <td>3</td>\n",
       "      <td>jun</td>\n",
       "      <td>238</td>\n",
       "      <td>3</td>\n",
       "      <td>yes</td>\n",
       "    </tr>\n",
       "    <tr>\n",
       "      <th>39997</th>\n",
       "      <td>54</td>\n",
       "      <td>admin</td>\n",
       "      <td>divorced</td>\n",
       "      <td>secondary</td>\n",
       "      <td>no</td>\n",
       "      <td>200</td>\n",
       "      <td>no</td>\n",
       "      <td>no</td>\n",
       "      <td>cellular</td>\n",
       "      <td>3</td>\n",
       "      <td>jun</td>\n",
       "      <td>170</td>\n",
       "      <td>1</td>\n",
       "      <td>yes</td>\n",
       "    </tr>\n",
       "    <tr>\n",
       "      <th>39998</th>\n",
       "      <td>34</td>\n",
       "      <td>management</td>\n",
       "      <td>married</td>\n",
       "      <td>tertiary</td>\n",
       "      <td>no</td>\n",
       "      <td>1047</td>\n",
       "      <td>no</td>\n",
       "      <td>no</td>\n",
       "      <td>cellular</td>\n",
       "      <td>3</td>\n",
       "      <td>jun</td>\n",
       "      <td>342</td>\n",
       "      <td>1</td>\n",
       "      <td>no</td>\n",
       "    </tr>\n",
       "    <tr>\n",
       "      <th>39999</th>\n",
       "      <td>38</td>\n",
       "      <td>technician</td>\n",
       "      <td>married</td>\n",
       "      <td>secondary</td>\n",
       "      <td>no</td>\n",
       "      <td>1442</td>\n",
       "      <td>yes</td>\n",
       "      <td>no</td>\n",
       "      <td>cellular</td>\n",
       "      <td>3</td>\n",
       "      <td>jun</td>\n",
       "      <td>113</td>\n",
       "      <td>1</td>\n",
       "      <td>no</td>\n",
       "    </tr>\n",
       "  </tbody>\n",
       "</table>\n",
       "</div>"
      ],
      "text/plain": [
       "       age         job   marital  education default  balance housing loan  \\\n",
       "39995   53  technician   married   tertiary      no      395      no   no   \n",
       "39996   30  management    single   tertiary      no     3340      no   no   \n",
       "39997   54       admin  divorced  secondary      no      200      no   no   \n",
       "39998   34  management   married   tertiary      no     1047      no   no   \n",
       "39999   38  technician   married  secondary      no     1442     yes   no   \n",
       "\n",
       "        contact  day month  duration  campaign    y  \n",
       "39995  cellular    3   jun       107         1   no  \n",
       "39996  cellular    3   jun       238         3  yes  \n",
       "39997  cellular    3   jun       170         1  yes  \n",
       "39998  cellular    3   jun       342         1   no  \n",
       "39999  cellular    3   jun       113         1   no  "
      ]
     },
     "execution_count": 95,
     "metadata": {},
     "output_type": "execute_result"
    }
   ],
   "source": [
    "df.tail()"
   ]
  },
  {
   "cell_type": "code",
   "execution_count": 96,
   "id": "f6ed19aa",
   "metadata": {},
   "outputs": [
    {
     "data": {
      "text/html": [
       "<div>\n",
       "<style scoped>\n",
       "    .dataframe tbody tr th:only-of-type {\n",
       "        vertical-align: middle;\n",
       "    }\n",
       "\n",
       "    .dataframe tbody tr th {\n",
       "        vertical-align: top;\n",
       "    }\n",
       "\n",
       "    .dataframe thead th {\n",
       "        text-align: right;\n",
       "    }\n",
       "</style>\n",
       "<table border=\"1\" class=\"dataframe\">\n",
       "  <thead>\n",
       "    <tr style=\"text-align: right;\">\n",
       "      <th></th>\n",
       "      <th>age</th>\n",
       "      <th>balance</th>\n",
       "      <th>day</th>\n",
       "      <th>duration</th>\n",
       "      <th>campaign</th>\n",
       "    </tr>\n",
       "  </thead>\n",
       "  <tbody>\n",
       "    <tr>\n",
       "      <th>count</th>\n",
       "      <td>40000.000000</td>\n",
       "      <td>40000.000000</td>\n",
       "      <td>40000.000000</td>\n",
       "      <td>40000.000000</td>\n",
       "      <td>40000.000000</td>\n",
       "    </tr>\n",
       "    <tr>\n",
       "      <th>mean</th>\n",
       "      <td>40.544600</td>\n",
       "      <td>1274.277550</td>\n",
       "      <td>16.017225</td>\n",
       "      <td>254.824300</td>\n",
       "      <td>2.882175</td>\n",
       "    </tr>\n",
       "    <tr>\n",
       "      <th>std</th>\n",
       "      <td>9.641776</td>\n",
       "      <td>2903.769716</td>\n",
       "      <td>8.278127</td>\n",
       "      <td>259.366498</td>\n",
       "      <td>3.239051</td>\n",
       "    </tr>\n",
       "    <tr>\n",
       "      <th>min</th>\n",
       "      <td>19.000000</td>\n",
       "      <td>-8019.000000</td>\n",
       "      <td>1.000000</td>\n",
       "      <td>0.000000</td>\n",
       "      <td>1.000000</td>\n",
       "    </tr>\n",
       "    <tr>\n",
       "      <th>25%</th>\n",
       "      <td>33.000000</td>\n",
       "      <td>54.000000</td>\n",
       "      <td>8.000000</td>\n",
       "      <td>100.000000</td>\n",
       "      <td>1.000000</td>\n",
       "    </tr>\n",
       "    <tr>\n",
       "      <th>50%</th>\n",
       "      <td>39.000000</td>\n",
       "      <td>407.000000</td>\n",
       "      <td>17.000000</td>\n",
       "      <td>175.000000</td>\n",
       "      <td>2.000000</td>\n",
       "    </tr>\n",
       "    <tr>\n",
       "      <th>75%</th>\n",
       "      <td>48.000000</td>\n",
       "      <td>1319.000000</td>\n",
       "      <td>21.000000</td>\n",
       "      <td>313.000000</td>\n",
       "      <td>3.000000</td>\n",
       "    </tr>\n",
       "    <tr>\n",
       "      <th>max</th>\n",
       "      <td>95.000000</td>\n",
       "      <td>102127.000000</td>\n",
       "      <td>31.000000</td>\n",
       "      <td>4918.000000</td>\n",
       "      <td>63.000000</td>\n",
       "    </tr>\n",
       "  </tbody>\n",
       "</table>\n",
       "</div>"
      ],
      "text/plain": [
       "                age        balance           day      duration      campaign\n",
       "count  40000.000000   40000.000000  40000.000000  40000.000000  40000.000000\n",
       "mean      40.544600    1274.277550     16.017225    254.824300      2.882175\n",
       "std        9.641776    2903.769716      8.278127    259.366498      3.239051\n",
       "min       19.000000   -8019.000000      1.000000      0.000000      1.000000\n",
       "25%       33.000000      54.000000      8.000000    100.000000      1.000000\n",
       "50%       39.000000     407.000000     17.000000    175.000000      2.000000\n",
       "75%       48.000000    1319.000000     21.000000    313.000000      3.000000\n",
       "max       95.000000  102127.000000     31.000000   4918.000000     63.000000"
      ]
     },
     "execution_count": 96,
     "metadata": {},
     "output_type": "execute_result"
    }
   ],
   "source": [
    "df.describe()"
   ]
  },
  {
   "cell_type": "code",
   "execution_count": 97,
   "id": "b0001e23",
   "metadata": {},
   "outputs": [
    {
     "name": "stdout",
     "output_type": "stream",
     "text": [
      "<class 'pandas.core.frame.DataFrame'>\n",
      "RangeIndex: 40000 entries, 0 to 39999\n",
      "Data columns (total 14 columns):\n",
      " #   Column     Non-Null Count  Dtype \n",
      "---  ------     --------------  ----- \n",
      " 0   age        40000 non-null  int64 \n",
      " 1   job        40000 non-null  object\n",
      " 2   marital    40000 non-null  object\n",
      " 3   education  40000 non-null  object\n",
      " 4   default    40000 non-null  object\n",
      " 5   balance    40000 non-null  int64 \n",
      " 6   housing    40000 non-null  object\n",
      " 7   loan       40000 non-null  object\n",
      " 8   contact    40000 non-null  object\n",
      " 9   day        40000 non-null  int64 \n",
      " 10  month      40000 non-null  object\n",
      " 11  duration   40000 non-null  int64 \n",
      " 12  campaign   40000 non-null  int64 \n",
      " 13  y          40000 non-null  object\n",
      "dtypes: int64(5), object(9)\n",
      "memory usage: 4.3+ MB\n"
     ]
    }
   ],
   "source": [
    "df.info()"
   ]
  },
  {
   "cell_type": "markdown",
   "id": "ee790ab9",
   "metadata": {},
   "source": [
    "### Data cleaning"
   ]
  },
  {
   "cell_type": "markdown",
   "id": "cb9f8bbb",
   "metadata": {},
   "source": [
    "1- Check for missing values"
   ]
  },
  {
   "cell_type": "code",
   "execution_count": 98,
   "id": "e9075b4c",
   "metadata": {},
   "outputs": [
    {
     "data": {
      "text/plain": [
       "age          0\n",
       "job          0\n",
       "marital      0\n",
       "education    0\n",
       "default      0\n",
       "balance      0\n",
       "housing      0\n",
       "loan         0\n",
       "contact      0\n",
       "day          0\n",
       "month        0\n",
       "duration     0\n",
       "campaign     0\n",
       "y            0\n",
       "dtype: int64"
      ]
     },
     "execution_count": 98,
     "metadata": {},
     "output_type": "execute_result"
    }
   ],
   "source": [
    "df.isnull().sum()"
   ]
  },
  {
   "cell_type": "markdown",
   "id": "a88e7505",
   "metadata": {},
   "source": [
    "No missing values are present"
   ]
  },
  {
   "cell_type": "markdown",
   "id": "2ac434fe",
   "metadata": {},
   "source": [
    "2- Checking outliers"
   ]
  },
  {
   "cell_type": "code",
   "execution_count": 99,
   "id": "a7ee78c0",
   "metadata": {},
   "outputs": [
    {
     "data": {
      "text/plain": [
       "(array([1.6120e+03, 1.1462e+04, 1.0133e+04, 8.3760e+03, 5.5840e+03,\n",
       "        2.6890e+03, 8.3000e+01, 4.2000e+01, 1.6000e+01, 3.0000e+00]),\n",
       " array([19. , 26.6, 34.2, 41.8, 49.4, 57. , 64.6, 72.2, 79.8, 87.4, 95. ]),\n",
       " <BarContainer object of 10 artists>)"
      ]
     },
     "execution_count": 99,
     "metadata": {},
     "output_type": "execute_result"
    },
    {
     "data": {
      "image/png": "[encoded data removed]",
      "text/plain": [
       "<Figure size 640x480 with 1 Axes>"
      ]
     },
     "metadata": {},
     "output_type": "display_data"
    }
   ],
   "source": [
    "plt.hist(df['age'])"
   ]
  },
  {
   "cell_type": "markdown",
   "id": "843b6b47",
   "metadata": {},
   "source": [
    "We can see that the majority of people have age between 30 and 40 with few samples between 20 and 30 and even less samples greater tha 65 (outliers)"
   ]
  },
  {
   "cell_type": "code",
   "execution_count": 100,
   "id": "149d7fc3",
   "metadata": {
    "scrolled": true
   },
   "outputs": [
    {
     "data": {
      "text/plain": [
       "(array([3.5363e+04, 4.3170e+03, 2.4600e+02, 4.4000e+01, 1.8000e+01,\n",
       "        5.0000e+00, 5.0000e+00, 0.0000e+00, 0.0000e+00, 2.0000e+00]),\n",
       " array([ -8019. ,   2995.6,  14010.2,  25024.8,  36039.4,  47054. ,\n",
       "         58068.6,  69083.2,  80097.8,  91112.4, 102127. ]),\n",
       " <BarContainer object of 10 artists>)"
      ]
     },
     "execution_count": 100,
     "metadata": {},
     "output_type": "execute_result"
    },
    {
     "data": {
      "image/png": "[encoded data removed]",
      "text/plain": [
       "<Figure size 640x480 with 1 Axes>"
      ]
     },
     "metadata": {},
     "output_type": "display_data"
    }
   ],
   "source": [
    "plt.hist(df['balance'])"
   ]
  },
  {
   "cell_type": "markdown",
   "id": "33e359cc",
   "metadata": {},
   "source": [
    "The majority of the people have the balance in the range negative balance and approximately 18000 wiith very few samples near 20000 and greater(outliers)"
   ]
  },
  {
   "cell_type": "code",
   "execution_count": 101,
   "id": "4e679bca",
   "metadata": {},
   "outputs": [
    {
     "data": {
      "text/plain": [
       "(array([2159., 4652., 4606., 2925., 4429., 5200., 6219., 1948., 2564.,\n",
       "        5298.]),\n",
       " array([ 1.,  4.,  7., 10., 13., 16., 19., 22., 25., 28., 31.]),\n",
       " <BarContainer object of 10 artists>)"
      ]
     },
     "execution_count": 101,
     "metadata": {},
     "output_type": "execute_result"
    },
    {
     "data": {
      "image/png": "[encoded data removed]",
      "text/plain": [
       "<Figure size 640x480 with 1 Axes>"
      ]
     },
     "metadata": {},
     "output_type": "display_data"
    }
   ],
   "source": [
    "plt.hist(df['day'])"
   ]
  },
  {
   "cell_type": "code",
   "execution_count": 102,
   "id": "aa3e72b7",
   "metadata": {},
   "outputs": [
    {
     "data": {
      "text/plain": [
       "(array([3.5137e+04, 3.8610e+03, 7.8300e+02, 1.5800e+02, 3.7000e+01,\n",
       "        1.1000e+01, 1.1000e+01, 1.0000e+00, 0.0000e+00, 1.0000e+00]),\n",
       " array([   0. ,  491.8,  983.6, 1475.4, 1967.2, 2459. , 2950.8, 3442.6,\n",
       "        3934.4, 4426.2, 4918. ]),\n",
       " <BarContainer object of 10 artists>)"
      ]
     },
     "execution_count": 102,
     "metadata": {},
     "output_type": "execute_result"
    },
    {
     "data": {
      "image/png": "[encoded data removed]",
      "text/plain": [
       "<Figure size 640x480 with 1 Axes>"
      ]
     },
     "metadata": {},
     "output_type": "display_data"
    }
   ],
   "source": [
    "plt.hist(df['duration'])"
   ]
  },
  {
   "cell_type": "markdown",
   "id": "3ff452ae",
   "metadata": {},
   "source": [
    "The duration of the last contact seems to be in the range of 500 seconds for most people. There are few samples with duration between 500 and 1000 seconds and very rarely the last contance seems to exceed 1000 seconds(outliers)"
   ]
  },
  {
   "cell_type": "code",
   "execution_count": 103,
   "id": "52510ad2",
   "metadata": {},
   "outputs": [
    {
     "data": {
      "text/plain": [
       "(array([3.7707e+04, 1.5880e+03, 4.1800e+02, 1.6500e+02, 7.5000e+01,\n",
       "        3.3000e+01, 7.0000e+00, 3.0000e+00, 2.0000e+00, 2.0000e+00]),\n",
       " array([ 1. ,  7.2, 13.4, 19.6, 25.8, 32. , 38.2, 44.4, 50.6, 56.8, 63. ]),\n",
       " <BarContainer object of 10 artists>)"
      ]
     },
     "execution_count": 103,
     "metadata": {},
     "output_type": "execute_result"
    },
    {
     "data": {
      "image/png": "[encoded data removed]",
      "text/plain": [
       "<Figure size 640x480 with 1 Axes>"
      ]
     },
     "metadata": {},
     "output_type": "display_data"
    }
   ],
   "source": [
    "plt.hist(df['campaign'])"
   ]
  },
  {
   "cell_type": "markdown",
   "id": "126bedbc",
   "metadata": {},
   "source": [
    "The number of contacts performed during this campaign seems to be approximately between one and 8 for most client rarely exceeding 13(outliers)."
   ]
  },
  {
   "cell_type": "markdown",
   "id": "5b2c6c95",
   "metadata": {},
   "source": [
    "### Visualize data and features engineering"
   ]
  },
  {
   "cell_type": "code",
   "execution_count": 104,
   "id": "c2faeb0b",
   "metadata": {},
   "outputs": [
    {
     "name": "stderr",
     "output_type": "stream",
     "text": [
      "C:\\Users\\PicardiC\\AppData\\Local\\Temp\\ipykernel_7664\\1015742225.py:6: UserWarning: Matplotlib is currently using module://matplotlib_inline.backend_inline, which is a non-GUI backend, so cannot show the figure.\n",
      "  fig.show()\n"
     ]
    },
    {
     "data": {
      "image/png": "[encoded data removed]",
      "text/plain": [
       "<Figure size 640x480 with 1 Axes>"
      ]
     },
     "metadata": {},
     "output_type": "display_data"
    }
   ],
   "source": [
    "fig, ax = plt.subplots()\n",
    "subscriber_counts = df['y'].value_counts()\n",
    "ax.pie(subscriber_counts, labels=subscriber_counts)\n",
    "ax.set_title('Subcriber/Not subcriber customers')\n",
    "ax.legend(subscriber_counts.keys().tolist())\n",
    "fig.show()"
   ]
  },
  {
   "cell_type": "code",
   "execution_count": 105,
   "id": "4304f84e",
   "metadata": {},
   "outputs": [],
   "source": [
    "df['y']=pd.factorize(df['y'])[0]"
   ]
  },
  {
   "cell_type": "code",
   "execution_count": 106,
   "id": "a964c393",
   "metadata": {},
   "outputs": [
    {
     "name": "stdout",
     "output_type": "stream",
     "text": [
      "<class 'pandas.core.frame.DataFrame'>\n",
      "RangeIndex: 40000 entries, 0 to 39999\n",
      "Data columns (total 14 columns):\n",
      " #   Column     Non-Null Count  Dtype \n",
      "---  ------     --------------  ----- \n",
      " 0   age        40000 non-null  int64 \n",
      " 1   job        40000 non-null  object\n",
      " 2   marital    40000 non-null  object\n",
      " 3   education  40000 non-null  object\n",
      " 4   default    40000 non-null  object\n",
      " 5   balance    40000 non-null  int64 \n",
      " 6   housing    40000 non-null  object\n",
      " 7   loan       40000 non-null  object\n",
      " 8   contact    40000 non-null  object\n",
      " 9   day        40000 non-null  int64 \n",
      " 10  month      40000 non-null  object\n",
      " 11  duration   40000 non-null  int64 \n",
      " 12  campaign   40000 non-null  int64 \n",
      " 13  y          40000 non-null  int64 \n",
      "dtypes: int64(6), object(8)\n",
      "memory usage: 4.3+ MB\n"
     ]
    }
   ],
   "source": [
    "df.info()"
   ]
  },
  {
   "cell_type": "code",
   "execution_count": 107,
   "id": "591b526b",
   "metadata": {},
   "outputs": [
    {
     "data": {
      "text/plain": [
       "(2896, 14)"
      ]
     },
     "execution_count": 107,
     "metadata": {},
     "output_type": "execute_result"
    }
   ],
   "source": [
    "df_sub = df[df.y==1]\n",
    "df_sub.shape"
   ]
  },
  {
   "cell_type": "code",
   "execution_count": 108,
   "id": "2cb63eac",
   "metadata": {},
   "outputs": [
    {
     "data": {
      "text/plain": [
       "(37104, 14)"
      ]
     },
     "execution_count": 108,
     "metadata": {},
     "output_type": "execute_result"
    }
   ],
   "source": [
    "df_not_sub = df[df.y==0]\n",
    "df_not_sub.shape"
   ]
  },
  {
   "cell_type": "markdown",
   "id": "3116ec2e",
   "metadata": {},
   "source": [
    "The data are unbalanced with only 2896 subscriber aganist 37104 non subscriber. We need to remember this in the classification task."
   ]
  },
  {
   "cell_type": "markdown",
   "id": "49cc2fe5",
   "metadata": {},
   "source": [
    "#### Age"
   ]
  },
  {
   "cell_type": "code",
   "execution_count": 109,
   "id": "f1961dee",
   "metadata": {},
   "outputs": [
    {
     "data": {
      "image/png": "[encoded data removed]",
      "text/plain": [
       "<Figure size 640x480 with 2 Axes>"
      ]
     },
     "metadata": {},
     "output_type": "display_data"
    }
   ],
   "source": [
    "label = ['18-30','30-40','40-50','50-60','60-70','>70']\n",
    "perc_age = [round((df_sub[(18 <= df_sub['age']) & (df_sub['age'] <= 30)]).shape[0]/df_sub.shape[0]*100,2),round((df_sub[(30 < df_sub['age']) & (df_sub['age'] <= 40)]).shape[0]/df_sub.shape[0]*100,2),round((df_sub[(40 < df_sub['age']) & (df_sub['age'] <= 50)]).shape[0]/df_sub.shape[0]*100,2),round((df_sub[(50 < df_sub['age']) & (df_sub['age'] <= 60)]).shape[0]/df_sub.shape[0]*100,2),round((df_sub[(60 < df_sub['age']) & (df_sub['age'] <= 70)]).shape[0]/df_sub.shape[0]*100,2),round((df_sub[(df_sub['age'] > 70)]).shape[0]/df_sub.shape[0]*100,2)]\n",
    "num_samp_age = [(df[(18 <= df['age']) & (df['age'] <= 30)]).shape[0],(df[(30 < df['age']) & (df['age'] <= 40)]).shape[0],(df[(40 < df['age']) & (df['age'] <= 50)]).shape[0],(df[(50 < df['age']) & (df['age'] <= 60)]).shape[0],(df[(60 < df['age']) & (df['age'] <= 70)]).shape[0],(df[(df['age'] > 70)]).shape[0]]\n",
    "# Create Plot\n",
    "\n",
    "fig, ax1 = plt.subplots() \n",
    "  \n",
    "ax1.set_xlabel(\"Age range\") \n",
    "ax1.set_ylabel('Subscriber percentage', color = 'red') \n",
    "ax1.plot(label,perc_age, color = 'red') \n",
    "ax1.tick_params(axis ='y', labelcolor = 'red') \n",
    "  \n",
    "# Adding Twin Axes\n",
    "\n",
    "ax2 = ax1.twinx() \n",
    "  \n",
    "ax2.set_ylabel('Number of samples', color = 'blue') \n",
    "ax2.bar(label,num_samp_age,width=0.1, color = 'blue') \n",
    "ax2.tick_params(axis ='y', labelcolor = 'blue') \n",
    " \n",
    "# Show plot\n",
    "\n",
    "plt.show()"
   ]
  },
  {
   "cell_type": "markdown",
   "id": "c057191d",
   "metadata": {},
   "source": [
    "The subscriber percentage increase from the range 18-30 to the range 30-40 where the most samples are. After that it progressively decreases making the feature not correlated with the target."
   ]
  },
  {
   "cell_type": "markdown",
   "id": "21c44dd1",
   "metadata": {},
   "source": [
    "#### Job"
   ]
  },
  {
   "cell_type": "code",
   "execution_count": 110,
   "id": "3ff03a09",
   "metadata": {},
   "outputs": [
    {
     "name": "stdout",
     "output_type": "stream",
     "text": [
      "['management' 'technician' 'entrepreneur' 'blue-collar' 'unknown'\n",
      " 'retired' 'admin' 'services' 'self-employed' 'unemployed' 'housemaid'\n",
      " 'student']\n"
     ]
    }
   ],
   "source": [
    "print(df['job'].unique()) "
   ]
  },
  {
   "cell_type": "code",
   "execution_count": 111,
   "id": "7df662c4",
   "metadata": {},
   "outputs": [
    {
     "name": "stdout",
     "output_type": "stream",
     "text": [
      "blue-collar      9383\n",
      "management       8166\n",
      "technician       6852\n",
      "admin            4483\n",
      "services         3910\n",
      "retired          1437\n",
      "self-employed    1414\n",
      "entrepreneur     1405\n",
      "unemployed       1104\n",
      "housemaid        1087\n",
      "student           524\n",
      "unknown           235\n",
      "Name: job, dtype: int64\n"
     ]
    }
   ],
   "source": [
    "print(df['job'].value_counts()) "
   ]
  },
  {
   "cell_type": "markdown",
   "id": "8e3d3c7a",
   "metadata": {},
   "source": [
    "Givent the number of categories and samples it would be better to merge categories together. The categories unemployed, housemaid, student, unknown, retired and self-employed will be grouped together in the category 'Not full-time job'. The categories admin, technician, services will be grouped together in the category 'Office job' and the categories entrepreneur, management, blue-collar will be grouped together in the category 'High profile job'."
   ]
  },
  {
   "cell_type": "code",
   "execution_count": 113,
   "id": "08fbe918",
   "metadata": {},
   "outputs": [
    {
     "name": "stderr",
     "output_type": "stream",
     "text": [
      "C:\\Users\\PicardiC\\AppData\\Local\\Temp\\ipykernel_7664\\2856525914.py:3: SettingWithCopyWarning: \n",
      "A value is trying to be set on a copy of a slice from a DataFrame.\n",
      "Try using .loc[row_indexer,col_indexer] = value instead\n",
      "\n",
      "See the caveats in the documentation: https://pandas.pydata.org/pandas-docs/stable/user_guide/indexing.html#returning-a-view-versus-a-copy\n",
      "  df_sub['job'] = df_sub['job'].replace(d)\n",
      "C:\\Users\\PicardiC\\AppData\\Local\\Temp\\ipykernel_7664\\2856525914.py:4: SettingWithCopyWarning: \n",
      "A value is trying to be set on a copy of a slice from a DataFrame.\n",
      "Try using .loc[row_indexer,col_indexer] = value instead\n",
      "\n",
      "See the caveats in the documentation: https://pandas.pydata.org/pandas-docs/stable/user_guide/indexing.html#returning-a-view-versus-a-copy\n",
      "  df_not_sub['job'] = df_not_sub['job'].replace(d)\n"
     ]
    }
   ],
   "source": [
    "d = {'technician':'office job','admin':'office job','services':'office job','unemployed':'not full-time job','housemaid':'not full-time job','student':'not full-time job','unknown':'not full-time job','retired':'not full-time job','self-employed':'not full-time job','entrepreneur':'high profile job','management':'high profile job','blue-collar':'high profile job'}\n",
    "df['job'] = df['job'].replace(d)\n",
    "df_sub['job'] = df_sub['job'].replace(d)\n",
    "df_not_sub['job'] = df_not_sub['job'].replace(d)"
   ]
  },
  {
   "cell_type": "code",
   "execution_count": 114,
   "id": "91a0e4b1",
   "metadata": {},
   "outputs": [
    {
     "name": "stdout",
     "output_type": "stream",
     "text": [
      "['high profile job' 'office job' 'not full-time job']\n",
      "['office job' 'high profile job' 'not full-time job']\n",
      "['high profile job' 'office job' 'not full-time job']\n"
     ]
    }
   ],
   "source": [
    "print(df['job'].unique()) \n",
    "print(df_sub['job'].unique())\n",
    "print(df_not_sub['job'].unique())\n"
   ]
  },
  {
   "cell_type": "code",
   "execution_count": 115,
   "id": "d257416d",
   "metadata": {},
   "outputs": [
    {
     "name": "stdout",
     "output_type": "stream",
     "text": [
      "high profile job     18954\n",
      "office job           15245\n",
      "not full-time job     5801\n",
      "Name: job, dtype: int64\n"
     ]
    }
   ],
   "source": [
    "print(df['job'].value_counts()) "
   ]
  },
  {
   "cell_type": "code",
   "execution_count": 116,
   "id": "9c135f2e",
   "metadata": {},
   "outputs": [
    {
     "data": {
      "image/png": "[encoded data removed]",
      "text/plain": [
       "<Figure size 640x480 with 2 Axes>"
      ]
     },
     "metadata": {},
     "output_type": "display_data"
    }
   ],
   "source": [
    "label = ['not full-time job','office job', 'high profile job']\n",
    "perc_job = [round((df_sub[df_sub.job=='not full-time job']).shape[0]/df_sub.shape[0]*100,2),round((df_sub[df_sub.job=='office job']).shape[0]/df_sub.shape[0]*100,2),round((df_sub[df_sub.job=='high profile job']).shape[0]/df_sub.shape[0]*100,2)]\n",
    "num_samp_job = [df[df.job=='not full-time job'].shape[0], df[df.job=='office job'].shape[0], df[df.job=='high profile job'].shape[0]]\n",
    "# Create Plot\n",
    "\n",
    "fig, ax1 = plt.subplots() \n",
    "  \n",
    "ax1.set_xlabel(\"Type of job\") \n",
    "ax1.set_ylabel('Subscriber percentage', color = 'red') \n",
    "ax1.plot(label,perc_job, color = 'red') \n",
    "ax1.tick_params(axis ='y', labelcolor = 'red') \n",
    "  \n",
    "# Adding Twin Axes\n",
    "\n",
    "ax2 = ax1.twinx() \n",
    "  \n",
    "ax2.set_ylabel('Number of samples', color = 'blue') \n",
    "ax2.bar(label,num_samp_job,width=0.1, color = 'blue') \n",
    "ax2.tick_params(axis ='y', labelcolor = 'blue') \n",
    " \n",
    "# Show plot\n",
    "\n",
    "plt.show()"
   ]
  },
  {
   "cell_type": "markdown",
   "id": "e583c492",
   "metadata": {},
   "source": [
    "As expected the percentage of subscriber grow when the job position improve. This feature seems to have influence on the target."
   ]
  },
  {
   "cell_type": "markdown",
   "id": "b6b3eec4",
   "metadata": {},
   "source": [
    "#### Marital"
   ]
  },
  {
   "cell_type": "code",
   "execution_count": 117,
   "id": "665a9054",
   "metadata": {},
   "outputs": [
    {
     "name": "stdout",
     "output_type": "stream",
     "text": [
      "['married' 'single' 'divorced']\n"
     ]
    }
   ],
   "source": [
    "print(df['marital'].unique()) "
   ]
  },
  {
   "cell_type": "code",
   "execution_count": 118,
   "id": "84106cd7",
   "metadata": {},
   "outputs": [
    {
     "name": "stdout",
     "output_type": "stream",
     "text": [
      "married     24386\n",
      "single      10889\n",
      "divorced     4725\n",
      "Name: marital, dtype: int64\n"
     ]
    }
   ],
   "source": [
    "print(df['marital'].value_counts()) "
   ]
  },
  {
   "cell_type": "code",
   "execution_count": 119,
   "id": "68c7a501",
   "metadata": {},
   "outputs": [
    {
     "data": {
      "image/png": "[encoded data removed]",
      "text/plain": [
       "<Figure size 640x480 with 2 Axes>"
      ]
     },
     "metadata": {},
     "output_type": "display_data"
    }
   ],
   "source": [
    "label = ['married','single', 'divorced']\n",
    "perc_mar = [round((df_sub[df_sub.marital=='married']).shape[0]/df_sub.shape[0]*100,2),round((df_sub[df_sub.marital=='single']).shape[0]/df_sub.shape[0]*100,2),round((df_sub[df_sub.marital=='divorced']).shape[0]/df_sub.shape[0]*100,2)]\n",
    "num_samp_mar = [df[df.marital=='married'].shape[0], df[df.marital=='single'].shape[0], df[df.marital=='divorced'].shape[0]]\n",
    "# Create Plot\n",
    "\n",
    "fig, ax1 = plt.subplots() \n",
    "  \n",
    "ax1.set_xlabel(\"Marital status\") \n",
    "ax1.set_ylabel('Subscriber percentage', color = 'red') \n",
    "ax1.plot(label,perc_mar, color = 'red') \n",
    "ax1.tick_params(axis ='y', labelcolor = 'red') \n",
    "  \n",
    "# Adding Twin Axes\n",
    "\n",
    "ax2 = ax1.twinx() \n",
    "  \n",
    "ax2.set_ylabel('Number of samples', color = 'blue') \n",
    "ax2.bar(label,num_samp_mar,width=0.1, color = 'blue') \n",
    "ax2.tick_params(axis ='y', labelcolor = 'blue') \n",
    " \n",
    "# Show plot\n",
    "\n",
    "plt.show()"
   ]
  },
  {
   "cell_type": "markdown",
   "id": "3cef7c07",
   "metadata": {},
   "source": [
    "The greatest subscriber percentage is in the married people decreasing drastically in divorced people. The reason of this could be related to desire to build a new family or just a random case due to the sample size."
   ]
  },
  {
   "cell_type": "markdown",
   "id": "f5e42031",
   "metadata": {},
   "source": [
    "#### Education"
   ]
  },
  {
   "cell_type": "code",
   "execution_count": 120,
   "id": "651e7ada",
   "metadata": {},
   "outputs": [
    {
     "name": "stdout",
     "output_type": "stream",
     "text": [
      "['tertiary' 'secondary' 'unknown' 'primary']\n"
     ]
    }
   ],
   "source": [
    "print(df['education'].unique()) "
   ]
  },
  {
   "cell_type": "code",
   "execution_count": null,
   "id": "01f7a144",
   "metadata": {},
   "outputs": [],
   "source": [
    "label = ['primary', 'secondary', 'tertiary', 'unknown']\n",
    "perc_ed = []"
   ]
  }
 ],
 "metadata": {
  "kernelspec": {
   "display_name": "Python 3 (ipykernel)",
   "language": "python",
   "name": "python3"
  },
  "language_info": {
   "codemirror_mode": {
    "name": "ipython",
    "version": 3
   },
   "file_extension": ".py",
   "mimetype": "text/x-python",
   "name": "python",
   "nbconvert_exporter": "python",
   "pygments_lexer": "ipython3",
   "version": "3.11.4"
  }
 },
 "nbformat": 4,
 "nbformat_minor": 5
}
